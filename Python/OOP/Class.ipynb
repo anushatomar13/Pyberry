{
 "cells": [
  {
   "cell_type": "markdown",
   "id": "f8733a72",
   "metadata": {},
   "source": [
    "# CLASS IN PYTHON"
   ]
  },
  {
   "cell_type": "markdown",
   "id": "954f7c0a",
   "metadata": {},
   "source": [
    "Python is an object oriented programming language. \n"
   ]
  },
  {
   "cell_type": "markdown",
   "id": "bf0a2cff",
   "metadata": {},
   "source": [
    "We can think of class as a sketch of building, which has all the descritpions about the floors, windows, elevators should be, based on the which the building is going to be built which is the object which we will deal about later."
   ]
  },
  {
   "cell_type": "markdown",
   "id": "34984f43",
   "metadata": {},
   "source": [
    "As many buildings can be built from that sketch, as many objects can be created from a class."
   ]
  },
  {
   "cell_type": "markdown",
   "id": "2aca151c",
   "metadata": {},
   "source": [
    "# DEFINING THE CLASS:"
   ]
  },
  {
   "cell_type": "markdown",
   "id": "28f4ecde",
   "metadata": {},
   "source": [
    "As you know, we use the 'def' keyword before defining a function. For defining a class we use the 'class' keyword. The first string is called the docstring, which holds the brief description of the class. Although it is not necessary, it is recommended to have a good practice."
   ]
  },
  {
   "cell_type": "code",
   "execution_count": 2,
   "id": "d84363f0",
   "metadata": {},
   "outputs": [],
   "source": [
    "class testclass1:\n",
    "    \"This is the docstring area, where you can say what does this class does\"\n",
    "    pass"
   ]
  },
  {
   "cell_type": "markdown",
   "id": "78497779",
   "metadata": {},
   "source": [
    "The above is a sample of a class. And as you saw in loops and functions, the indentation is important."
   ]
  },
  {
   "cell_type": "raw",
   "id": "12fd91be",
   "metadata": {},
   "source": [
    "#the syntax is as follows\n",
    "\n",
    "class yourclassname:\n",
    "    \"The docstring\"\n",
    "    body"
   ]
  },
  {
   "cell_type": "markdown",
   "id": "1dfe9e12",
   "metadata": {},
   "source": [
    "When you create a class an object is created with the same name."
   ]
  },
  {
   "cell_type": "code",
   "execution_count": 8,
   "id": "3102c100",
   "metadata": {},
   "outputs": [
    {
     "name": "stdout",
     "output_type": "stream",
     "text": [
      "90\n",
      "This is second testclass.\n"
     ]
    }
   ],
   "source": [
    "class testclass2:\n",
    "    'This is second testclass.'\n",
    "    a = 90\n",
    "#a is the object here\n",
    "\n",
    "print(testclass2.a)\n",
    "print(testclass2.__doc__)"
   ]
  },
  {
   "cell_type": "markdown",
   "id": "868b248f",
   "metadata": {},
   "source": [
    "In the above code, we created a class called testclass2 and we wrote a docstring which describes the class, created an object called a for the same."
   ]
  },
  {
   "cell_type": "code",
   "execution_count": null,
   "id": "eabd9c9c",
   "metadata": {},
   "outputs": [],
   "source": []
  }
 ],
 "metadata": {
  "kernelspec": {
   "display_name": "Python 3",
   "language": "python",
   "name": "python3"
  },
  "language_info": {
   "codemirror_mode": {
    "name": "ipython",
    "version": 3
   },
   "file_extension": ".py",
   "mimetype": "text/x-python",
   "name": "python",
   "nbconvert_exporter": "python",
   "pygments_lexer": "ipython3",
   "version": "3.8.8"
  }
 },
 "nbformat": 4,
 "nbformat_minor": 5
}
