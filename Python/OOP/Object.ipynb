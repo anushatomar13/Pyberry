{
 "cells": [
  {
   "cell_type": "markdown",
   "id": "d879f451",
   "metadata": {},
   "source": [
    "OBJECTS IN PYTHON:"
   ]
  },
  {
   "cell_type": "markdown",
   "id": "ee770d0c",
   "metadata": {},
   "source": [
    "An object is an instance of class. It is used to access different attributes of the class. "
   ]
  },
  {
   "cell_type": "markdown",
   "id": "797bd9d5",
   "metadata": {},
   "source": [
    "Similar to function call an object can be created as easy as that. Object is simply a collection of data and methods that act on those data, class is the blueprint for the object."
   ]
  },
  {
   "cell_type": "markdown",
   "id": "e2156821",
   "metadata": {},
   "source": [
    "A class can have as many objects as possible. The process of creating object is called as instantiation."
   ]
  },
  {
   "cell_type": "code",
   "execution_count": 5,
   "id": "ff47e252",
   "metadata": {},
   "outputs": [],
   "source": [
    "class test:\n",
    "    def func(self):\n",
    "        print(\"Hello Python\")"
   ]
  },
  {
   "cell_type": "markdown",
   "id": "4a06b975",
   "metadata": {},
   "source": [
    "This is a simple class definition. Let's see how to create an object for this class"
   ]
  },
  {
   "cell_type": "code",
   "execution_count": 4,
   "id": "a00b6c34",
   "metadata": {},
   "outputs": [],
   "source": [
    "chap = test()"
   ]
  },
  {
   "cell_type": "markdown",
   "id": "311c0802",
   "metadata": {},
   "source": [
    "Here chap refers to the name of the object and naming an object has the same rules as the variable does in python. The line creates an object named as chap for the class test."
   ]
  },
  {
   "cell_type": "code",
   "execution_count": 3,
   "id": "930dfddd",
   "metadata": {},
   "outputs": [
    {
     "name": "stdout",
     "output_type": "stream",
     "text": [
      "Hello Python\n"
     ]
    }
   ],
   "source": [
    "chap.func()"
   ]
  },
  {
   "cell_type": "markdown",
   "id": "e7fc67a8",
   "metadata": {},
   "source": [
    "This line executes the method that is the function inside the class with the help of the object."
   ]
  },
  {
   "cell_type": "markdown",
   "id": "5077d962",
   "metadata": {},
   "source": [
    "We can access attributes of objects using the object name prefix. Attributes can be anything data or method. Method of an object are corresponding funcitons of that class. Any function object that is a class attribute defines a method for objects of that class."
   ]
  }
 ],
 "metadata": {
  "kernelspec": {
   "display_name": "Python 3 (ipykernel)",
   "language": "python",
   "name": "python3"
  },
  "language_info": {
   "codemirror_mode": {
    "name": "ipython",
    "version": 3
   },
   "file_extension": ".py",
   "mimetype": "text/x-python",
   "name": "python",
   "nbconvert_exporter": "python",
   "pygments_lexer": "ipython3",
   "version": "3.9.10"
  }
 },
 "nbformat": 4,
 "nbformat_minor": 5
}
