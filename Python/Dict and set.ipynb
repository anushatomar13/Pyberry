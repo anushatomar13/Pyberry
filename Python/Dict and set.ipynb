{
 "cells": [
  {
   "cell_type": "markdown",
   "id": "182b0d7b",
   "metadata": {},
   "source": [
    "# Dict and set in Python\n",
    "\n",
    "## Python Dictionaries :\n",
    "Dictionaries are used to store data values in key:value pairs. A dictionary is a collection which is **ordered** (As of Python version 3.7) , **changeable** and **does not allow duplicates**. The values in dictionary items can be of any data type:\n",
    "\n",
    "**Example :**\n",
    " "
   ]
  },
  {
   "cell_type": "code",
   "execution_count": 14,
   "id": "1a60b4ff",
   "metadata": {},
   "outputs": [
    {
     "name": "stdout",
     "output_type": "stream",
     "text": [
      "{'brand': 'Ford', 'electric': False, 'year': 1964, 'colors': ['red', 'white', 'blue']}\n"
     ]
    }
   ],
   "source": [
    "# Create and print a dictionary:\n",
    "thisdict = {\n",
    "  \"brand\": \"Ford\",\n",
    "  \"electric\": False,\n",
    "  \"year\": 1964,\n",
    "  \"colors\": [\"red\", \"white\", \"blue\"]\n",
    "}\n",
    "print(thisdict)"
   ]
  },
  {
   "cell_type": "markdown",
   "id": "70a75d2d",
   "metadata": {},
   "source": [
    "**Methods :**"
   ]
  },
  {
   "cell_type": "code",
   "execution_count": 15,
   "id": "3cb8d12a",
   "metadata": {},
   "outputs": [
    {
     "data": {
      "text/plain": [
       "dict_keys(['brand', 'electric', 'year', 'colors'])"
      ]
     },
     "execution_count": 15,
     "metadata": {},
     "output_type": "execute_result"
    }
   ],
   "source": [
    "#keys() : Returns a list containing the dictionary's keys\n",
    "thisdict.keys()"
   ]
  },
  {
   "cell_type": "code",
   "execution_count": 16,
   "id": "1e00e0fb",
   "metadata": {},
   "outputs": [
    {
     "data": {
      "text/plain": [
       "['brand', 'colors', 'electric', 'year']"
      ]
     },
     "execution_count": 16,
     "metadata": {},
     "output_type": "execute_result"
    }
   ],
   "source": [
    "#sorting\n",
    "sorted(thisdict.keys())"
   ]
  },
  {
   "cell_type": "code",
   "execution_count": 17,
   "id": "94416b47",
   "metadata": {},
   "outputs": [
    {
     "data": {
      "text/plain": [
       "True"
      ]
     },
     "execution_count": 17,
     "metadata": {},
     "output_type": "execute_result"
    }
   ],
   "source": [
    "#searching \n",
    "'brand' in thisdict"
   ]
  },
  {
   "cell_type": "code",
   "execution_count": 18,
   "id": "225f369c",
   "metadata": {},
   "outputs": [
    {
     "data": {
      "text/plain": [
       "{'electric': False, 'year': 1964, 'colors': ['red', 'white', 'blue']}"
      ]
     },
     "execution_count": 18,
     "metadata": {},
     "output_type": "execute_result"
    }
   ],
   "source": [
    "#Deletion\n",
    "del thisdict['brand']\n",
    "thisdict"
   ]
  },
  {
   "cell_type": "markdown",
   "id": "64a7c804",
   "metadata": {},
   "source": [
    "## Set :\n",
    "Sets are used to store multiple items in a single variable.A set is a collection which is **unordered**, **unchangeable**, and **unindexed**.Sets are written with curly brackets.\n",
    "\n",
    "**Example :**"
   ]
  },
  {
   "cell_type": "code",
   "execution_count": 19,
   "id": "e05ef5c9",
   "metadata": {},
   "outputs": [
    {
     "name": "stdout",
     "output_type": "stream",
     "text": [
      "{'apple', 'cherry', 'banana'}\n"
     ]
    }
   ],
   "source": [
    "#create and print a set :\n",
    "thisset = {\"apple\", \"banana\", \"cherry\"}\n",
    "print(thisset)"
   ]
  },
  {
   "cell_type": "markdown",
   "id": "e72ad76e",
   "metadata": {},
   "source": [
    "**Operations :**"
   ]
  },
  {
   "cell_type": "code",
   "execution_count": 26,
   "id": "69dc3a42",
   "metadata": {},
   "outputs": [
    {
     "data": {
      "text/plain": [
       "{1, 2, 3, 4, 5, 6, 7, 8}"
      ]
     },
     "execution_count": 26,
     "metadata": {},
     "output_type": "execute_result"
    }
   ],
   "source": [
    "s1={1,2,3,4}\n",
    "s2={1,5,6,7,8}\n",
    "\n",
    "#Union\n",
    "s1|s2\n"
   ]
  },
  {
   "cell_type": "code",
   "execution_count": 27,
   "id": "8be05b08",
   "metadata": {},
   "outputs": [
    {
     "data": {
      "text/plain": [
       "{1}"
      ]
     },
     "execution_count": 27,
     "metadata": {},
     "output_type": "execute_result"
    }
   ],
   "source": [
    "#Intersection\n",
    "s1&s2"
   ]
  },
  {
   "cell_type": "code",
   "execution_count": 28,
   "id": "055616dd",
   "metadata": {},
   "outputs": [
    {
     "data": {
      "text/plain": [
       "{2, 3, 4}"
      ]
     },
     "execution_count": 28,
     "metadata": {},
     "output_type": "execute_result"
    }
   ],
   "source": [
    "#Difference\n",
    "s1-s2"
   ]
  },
  {
   "cell_type": "code",
   "execution_count": 29,
   "id": "b28447c9",
   "metadata": {},
   "outputs": [
    {
     "data": {
      "text/plain": [
       "{2, 3, 4, 5, 6, 7, 8}"
      ]
     },
     "execution_count": 29,
     "metadata": {},
     "output_type": "execute_result"
    }
   ],
   "source": [
    "#symmetric difference\n",
    "s1^s2"
   ]
  }
 ],
 "metadata": {
  "kernelspec": {
   "display_name": "Python 3",
   "language": "python",
   "name": "python3"
  },
  "language_info": {
   "codemirror_mode": {
    "name": "ipython",
    "version": 3
   },
   "file_extension": ".py",
   "mimetype": "text/x-python",
   "name": "python",
   "nbconvert_exporter": "python",
   "pygments_lexer": "ipython3",
   "version": "3.8.8"
  }
 },
 "nbformat": 4,
 "nbformat_minor": 5
}
