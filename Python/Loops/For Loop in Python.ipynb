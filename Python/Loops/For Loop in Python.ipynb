{
  "nbformat": 4,
  "nbformat_minor": 0,
  "metadata": {
    "colab": {
      "name": "For Loop in Python.ipynb",
      "provenance": [],
      "collapsed_sections": []
    },
    "kernelspec": {
      "name": "python3",
      "display_name": "Python 3"
    },
    "language_info": {
      "name": "python"
    }
  },
  "cells": [
    {
      "cell_type": "markdown",
      "metadata": {
        "id": "tMwCQUecq3Ig"
      },
      "source": [
        "###Getting started with For Loop\n",
        "\n",
        "*   For loop is used to iterate over a sequence, starting from the first value to the last. The number of iterations to be performed depends upon the length of the list.\n",
        "*   You can use range() function to run loop specified number of times.\n",
        "*   The range() function defaults to 0 as a starting, and increments by 1 by default.\n",
        "\n",
        "Syntax: \n",
        "```\n",
        "for iteratingVariable in sequence:\\\n",
        "    statement 1\\\n",
        "    statement 2\\\n",
        "    .  .   .   .\\\n",
        "    statement n\n",
        "```\n",
        "\n",
        "\n",
        "NOTE: Iteration begins from \"start\" and ends at \"stop-1\"."
      ]
    },
    {
      "cell_type": "code",
      "metadata": {
        "colab": {
          "base_uri": "https://localhost:8080/"
        },
        "id": "WCOdGawSr5pJ",
        "outputId": "ff8c4274-7226-422e-de19-475d79789dab"
      },
      "source": [
        "# Loop will itrate from 0 to 10\n",
        "for i in range(11):\n",
        "  print(i,end=\" \")\n",
        "\n",
        "print(\"\\n\")\n",
        "# Your can specify start and stop. Here, loop will itrate from 1 to 10\n",
        "for i in range(1,11):\n",
        "  print(i,end=\" \")\n",
        "\n",
        "print(\"\\n\")\n",
        "# we can also specify steps\n",
        "for i in range(1,11,3):\n",
        "  print(i,end=\" \")"
      ],
      "execution_count": null,
      "outputs": [
        {
          "output_type": "stream",
          "name": "stdout",
          "text": [
            "0 1 2 3 4 5 6 7 8 9 10 \n",
            "\n",
            "1 2 3 4 5 6 7 8 9 10 \n",
            "\n",
            "1 4 7 10 "
          ]
        }
      ]
    },
    {
      "cell_type": "markdown",
      "metadata": {
        "id": "lwuTGLEjztrd"
      },
      "source": [
        "###Nested loop\n",
        "\n",
        "*   A loop inside a loop is called nested loop.\n",
        "\n",
        "Let's take pyramid example to understand this.\n",
        "\n",
        "*   Here, \"inner loop\" will be executed i times for each iteration of the \"outer loop\".\n",
        "*   In 1st iteration of outer loop, inner loop runs 1 time.\n",
        "*   In 2nd iteration of outer loop, inner loop runs 2 times and so on..."
      ]
    },
    {
      "cell_type": "code",
      "metadata": {
        "colab": {
          "base_uri": "https://localhost:8080/"
        },
        "id": "3GNQNmRpzyBu",
        "outputId": "52618cf2-0e06-4b7f-f897-586fbdcf29ec"
      },
      "source": [
        "for i in range(1,6):  \n",
        "    for j in range(i):  \n",
        "        print(i,end = '')  \n",
        "    print()  "
      ],
      "execution_count": null,
      "outputs": [
        {
          "output_type": "stream",
          "name": "stdout",
          "text": [
            "1\n",
            "22\n",
            "333\n",
            "4444\n",
            "55555\n"
          ]
        }
      ]
    },
    {
      "cell_type": "markdown",
      "metadata": {
        "id": "WhZXsI6R10ex"
      },
      "source": [
        "##Else in For Loop\n",
        "\n",
        "Else part will be executed after the loop is finish its execution. "
      ]
    },
    {
      "cell_type": "code",
      "metadata": {
        "colab": {
          "base_uri": "https://localhost:8080/"
        },
        "id": "gqt5jsSr2JbM",
        "outputId": "4698b7e8-7669-4605-9d66-855f0895e9e7"
      },
      "source": [
        "for i in range(8):\n",
        "  print(i)\n",
        "else:\n",
        "  print(\"Loop i finished\")"
      ],
      "execution_count": null,
      "outputs": [
        {
          "output_type": "stream",
          "name": "stdout",
          "text": [
            "0\n",
            "1\n",
            "2\n",
            "3\n",
            "4\n",
            "5\n",
            "6\n",
            "7\n",
            "Loop i finished\n"
          ]
        }
      ]
    },
    {
      "cell_type": "markdown",
      "metadata": {
        "id": "oXkXcYCf2YBr"
      },
      "source": [
        "###break and continue statement \n",
        "\n",
        "break: use to terminate loop in between\n",
        "\n",
        "continue: use to stop current iteration and start with next itration, so code below continue statement will not be executed. "
      ]
    },
    {
      "cell_type": "code",
      "metadata": {
        "id": "_nTq__CW4mTz"
      },
      "source": [
        "# loop will be terminated when i=2\n",
        "for i in range(4):\n",
        "  if (i==2):\n",
        "    break\n",
        "  print(i,end=\" \")\n",
        "\n",
        "print(\"\\n\")\n",
        "# loop will be skip 2 while printing elements\n",
        "for i in range(4):\n",
        "  if (i==2):\n",
        "    continue\n",
        "  print(i,end=\" \")"
      ],
      "execution_count": null,
      "outputs": []
    },
    {
      "cell_type": "markdown",
      "metadata": {
        "id": "KIS503AfSCkp"
      },
      "source": [
        "#***Extras***"
      ]
    },
    {
      "cell_type": "markdown",
      "metadata": {
        "id": "kmUoowB7T0Xa"
      },
      "source": [
        "###One line For loop"
      ]
    },
    {
      "cell_type": "code",
      "metadata": {
        "colab": {
          "base_uri": "https://localhost:8080/"
        },
        "id": "yOeOCIRpT4wW",
        "outputId": "cf5a69af-df59-4ef5-a3df-323180159ec2"
      },
      "source": [
        "# For loop in one line \n",
        "for i in range(3): print(i)\n",
        "\n",
        "print(\"-----\")\n",
        "# Nested For loop in one line\n",
        "for i in range(4):\n",
        "    for j in range(2):\n",
        "        print((i,j))\n",
        "\n",
        "print([(i,j) for i in range(4) for j in range(2)]) # for i in range(3): for j in range(3): print((i,j))  :: syntax error\n",
        "\n",
        "print(\"-----\")\n",
        "# List operations in For loop in one line\n",
        "cubes = []\n",
        "for i in range(4):\n",
        "    cubes.append(i**3)\n",
        "print(cubes)\n",
        "\n",
        "print([i**3 for i in range(4)])\n",
        "\n",
        "print(\"-----\")\n",
        "# One line For loop with If\n",
        "cubes = []\n",
        "for i in range(13):\n",
        "    if i%3==0:\n",
        "        cubes.append(i**3) \n",
        "print(cubes)\n",
        "\n",
        "print([i**3 for i in range(13) if i%3==0])\n",
        "\n",
        "print(\"-----\")\n",
        "# One line For loop with If Else\n",
        "for i in range(13):\n",
        "    if i<8:\n",
        "        j = i**3\n",
        "    else:\n",
        "        j = 0    \n",
        "    print(j)\n",
        "\n",
        "for i in range(13): print(i**3 if i<8 else 0)"
      ],
      "execution_count": 17,
      "outputs": [
        {
          "output_type": "stream",
          "name": "stdout",
          "text": [
            "0\n",
            "1\n",
            "2\n",
            "-----\n",
            "(0, 0)\n",
            "(0, 1)\n",
            "(1, 0)\n",
            "(1, 1)\n",
            "(2, 0)\n",
            "(2, 1)\n",
            "(3, 0)\n",
            "(3, 1)\n",
            "[(0, 0), (0, 1), (1, 0), (1, 1), (2, 0), (2, 1), (3, 0), (3, 1)]\n",
            "[0, 1, 8, 27]\n",
            "[0, 1, 8, 27]\n",
            "[0, 27, 216, 729, 1728]\n",
            "[0, 27, 216, 729, 1728]\n",
            "0\n",
            "1\n",
            "8\n",
            "27\n",
            "64\n",
            "125\n",
            "216\n",
            "343\n",
            "0\n",
            "0\n",
            "0\n",
            "0\n",
            "0\n",
            "0\n",
            "1\n",
            "8\n",
            "27\n",
            "64\n",
            "125\n",
            "216\n",
            "343\n",
            "0\n",
            "0\n",
            "0\n",
            "0\n",
            "0\n"
          ]
        }
      ]
    },
    {
      "cell_type": "markdown",
      "metadata": {
        "id": "I2fx2MOZr7lI"
      },
      "source": [
        "###For loop to iterate List, Tuple, Set, String\n",
        "\n",
        "\n",
        "*   Same syntax to iterate all 4\n",
        "*   Difference between these 4 during iteration is is\\\n",
        "&nbsp; List : ordered, mutable \\\n",
        "&nbsp; Tuple : ordered, immutable\\\n",
        "&nbsp; Set : unordered, mutable \\\n",
        "&nbsp; String :  mutable\n",
        "\n",
        "\n",
        "\n",
        "\n"
      ]
    },
    {
      "cell_type": "code",
      "metadata": {
        "colab": {
          "base_uri": "https://localhost:8080/"
        },
        "id": "GpXVfjATtAYu",
        "outputId": "4f92287a-5630-4d03-e718-183d0322fb7a"
      },
      "source": [
        "fruits_list = [\"mango\", \"orange\", \"cherry\"]\n",
        "fruits_tuple = (\"mango\", \"orange\", \"cherry\")\n",
        "fruits_set = {\"mango\", \"orange\", \"cherry\"}\n",
        "fruit_string = \"apple\"\n",
        "\n",
        "for fruit in fruits_list:\n",
        "  print(fruit,end=\" \")\n",
        "\n",
        "print(\"\")\n",
        "for fruit in fruits_tuple:\n",
        "  print(fruit,end=\" \")\n",
        "\n",
        "print(\"\")\n",
        "for fruit in fruits_set:\n",
        "  print(fruit,end=\" \")\n",
        "\n",
        "print(\"\")\n",
        "for fruit in fruit_string:\n",
        "  print(fruit,end=\" \")"
      ],
      "execution_count": 4,
      "outputs": [
        {
          "output_type": "stream",
          "name": "stdout",
          "text": [
            "mango orange cherry \n",
            "mango orange cherry \n",
            "cherry orange mango \n",
            "a p p l e "
          ]
        }
      ]
    },
    {
      "cell_type": "markdown",
      "metadata": {
        "id": "Qaw9CuHHtBDj"
      },
      "source": [
        "###For loop to iterate dictionary "
      ]
    },
    {
      "cell_type": "code",
      "metadata": {
        "id": "UkNpioC1tIki",
        "colab": {
          "base_uri": "https://localhost:8080/"
        },
        "outputId": "7a541cd6-08c3-4683-e929-ec98ea9be467"
      },
      "source": [
        "data_dict = {'color': 'red', 'game': 'cricket','fruit': 'mango'}\n",
        "for data in data_dict:\n",
        "  print(data,end=\" \")\n",
        "\n",
        "print(\"\")\n",
        "for data in data_dict:\n",
        "  print(data_dict[data],end=\" \")\n",
        "\n",
        "print(\"\")\n",
        "for data_key,data_value  in data_dict.items():\n",
        "  print(data+\":\"+data_value,end=\" \")\n",
        "\n",
        "print(\"\")\n",
        "for data in data_dict.keys():\n",
        "  print(data,end=\" \")\n",
        "\n",
        "print(\"\")\n",
        "for data in data_dict.values():\n",
        "  print(data,end=\" \")\n",
        "\n"
      ],
      "execution_count": 11,
      "outputs": [
        {
          "output_type": "stream",
          "name": "stdout",
          "text": [
            "color game fruit \n",
            "red cricket mango \n",
            "fruit:red fruit:cricket fruit:mango \n",
            "color game fruit \n",
            "red cricket mango "
          ]
        }
      ]
    }
  ]
}