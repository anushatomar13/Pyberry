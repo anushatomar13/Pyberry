{
 "cells": [
  {
   "cell_type": "markdown",
   "id": "8d3dc0ad",
   "metadata": {},
   "source": [
    "# THE IF STATEMENT"
   ]
  },
  {
   "cell_type": "markdown",
   "id": "d13ee885",
   "metadata": {},
   "source": [
    "\"IF\" statement works well when your program contains certain conditions and you have to test them.\n",
    "The syntax is as follows.."
   ]
  },
  {
   "cell_type": "raw",
   "id": "a277edec",
   "metadata": {},
   "source": [
    "if (test expression/condition):\n",
    "    body/statement"
   ]
  },
  {
   "cell_type": "markdown",
   "id": "1dea902b",
   "metadata": {},
   "source": [
    "As far as python is concerned, like other languages, { } parentheses are not used to refer the blocks. Instead \"Indentation\" plays an important role here. The body of the if statement starts with an indentation which is typically a size of tab space. The first unindented line marks the end of if statement."
   ]
  },
  {
   "cell_type": "markdown",
   "id": "63bc2d0e",
   "metadata": {},
   "source": [
    "Here let's have an example of checking whether the person is eligible to vote or not, having a condition that if the person's age is greater than or equal to 18 implying that they are eligible to vote."
   ]
  },
  {
   "cell_type": "code",
   "execution_count": 2,
   "id": "bb3b8cc7",
   "metadata": {},
   "outputs": [
    {
     "name": "stdout",
     "output_type": "stream",
     "text": [
      "The person is eligible\n"
     ]
    }
   ],
   "source": [
    "#creating a variable called age and assigning a value of 25\n",
    "age = 25\n",
    "\n",
    "#here comes the testing part whether the person is eligible or not\n",
    "\n",
    "if(age >= 18):\n",
    "    print(\"The person is eligible\")"
   ]
  },
  {
   "cell_type": "markdown",
   "id": "426c6508",
   "metadata": {},
   "source": [
    "Now what will happen if the person's age is less than 18?"
   ]
  },
  {
   "cell_type": "code",
   "execution_count": 3,
   "id": "c9db938c",
   "metadata": {},
   "outputs": [],
   "source": [
    "#creating a variable called age and assigning a value of 15\n",
    "age = 15\n",
    "\n",
    "#here comes the testing part whether the person is eligible or not\n",
    "\n",
    "if(age >= 18):\n",
    "    print(\"The person is eligible\")"
   ]
  },
  {
   "cell_type": "markdown",
   "id": "3f3dc055",
   "metadata": {},
   "source": [
    "As you could see, the interpreter will not return any output, and here comes the role of else part. "
   ]
  },
  {
   "cell_type": "markdown",
   "id": "3b4d321f",
   "metadata": {},
   "source": [
    "Similar to if, else part works when the condition in the if part is not satisfied. The syntax of else part is similar to if, but it doesn't need to check any conditions and contains only the body part."
   ]
  },
  {
   "cell_type": "raw",
   "id": "556048e3",
   "metadata": {},
   "source": [
    "if (test expression/condition):\n",
    "    body/statement\n",
    "\n",
    "else:\n",
    "    body/statements"
   ]
  },
  {
   "cell_type": "markdown",
   "id": "4563f712",
   "metadata": {},
   "source": [
    "Let's see the previous if example once again, but this time the interpreter should return an output if the person is not eligible. And for that we are using the else part."
   ]
  },
  {
   "cell_type": "code",
   "execution_count": 5,
   "id": "6c44c081",
   "metadata": {},
   "outputs": [
    {
     "name": "stdout",
     "output_type": "stream",
     "text": [
      "The person is not eligible\n"
     ]
    }
   ],
   "source": [
    "#creating a variable called age and assigning a value of 15\n",
    "age = 15\n",
    "\n",
    "#here comes the testing part whether the person is eligible or not\n",
    "\n",
    "if(age >= 18):\n",
    "    print(\"The person is eligible\")\n",
    "\n",
    "#else part also needs indentation\n",
    "\n",
    "else:\n",
    "    print(\"The person is not eligible\")"
   ]
  },
  {
   "cell_type": "markdown",
   "id": "09e8484a",
   "metadata": {},
   "source": [
    "Voila, there you go!! Now how about a cas that you need to check more than one condition? Like languages like C++, Java, Python doesn't support switch case. Instead we have to use the \"elif\" statement."
   ]
  },
  {
   "cell_type": "raw",
   "id": "cf772cdf",
   "metadata": {},
   "source": [
    "Syntax for elif, it isn't necessary that you should have an else part while using elif\n",
    "\n",
    "if (test expression/condition):\n",
    "    body/statement\n",
    "    \n",
    "elif (test expression/condition):\n",
    "    body/statement\n",
    "    \n",
    "else:\n",
    "    body/statements"
   ]
  },
  {
   "cell_type": "markdown",
   "id": "b67efbb7",
   "metadata": {},
   "source": [
    "You can also have multiple if statements without else of elif"
   ]
  },
  {
   "cell_type": "raw",
   "id": "44844caa",
   "metadata": {},
   "source": [
    "if(test condition):\n",
    "    body\n",
    "\n",
    "if(test condition):\n",
    "    body"
   ]
  },
  {
   "cell_type": "markdown",
   "id": "f242cbac",
   "metadata": {},
   "source": [
    "An example for elif, \n",
    "A program which checks for the greatest of three numbers."
   ]
  },
  {
   "cell_type": "code",
   "execution_count": 10,
   "id": "09eaccd6",
   "metadata": {},
   "outputs": [
    {
     "name": "stdout",
     "output_type": "stream",
     "text": [
      "B is the greatest\n"
     ]
    }
   ],
   "source": [
    "A = 10\n",
    "B = 25\n",
    "C = 15\n",
    "\n",
    "if(A > B and A > C):\n",
    "    print(\"A is the greatest\")\n",
    "\n",
    "#note that elif has a similar syntax of if, it needs a test condition\n",
    "\n",
    "elif(B > A):\n",
    "    print(\"B is the greatest\")\n",
    "\n",
    "else:\n",
    "    print(\"C is the greatest\")"
   ]
  },
  {
   "cell_type": "code",
   "execution_count": null,
   "id": "1d83ba67",
   "metadata": {},
   "outputs": [],
   "source": []
  }
 ],
 "metadata": {
  "kernelspec": {
   "display_name": "Python 3",
   "language": "python",
   "name": "python3"
  },
  "language_info": {
   "codemirror_mode": {
    "name": "ipython",
    "version": 3
   },
   "file_extension": ".py",
   "mimetype": "text/x-python",
   "name": "python",
   "nbconvert_exporter": "python",
   "pygments_lexer": "ipython3",
   "version": "3.8.8"
  }
 },
 "nbformat": 4,
 "nbformat_minor": 5
}
