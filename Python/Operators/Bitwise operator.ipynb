{
 "cells": [
  {
   "cell_type": "markdown",
   "metadata": {},
   "source": [
    "## Bitwise operator\n",
    "\n",
    "The bitwise operators are the operators used to perform the operations on the data at the bit-level. When we perform the bitwise operations, then it is also known as bit-level programming. It consists of two digits, either 0 or 1. It is mainly used in numerical computations to make the calculations faster.\n",
    "\n",
    "There are following bitwise operators:\n",
    "\n",
    "1.Bitwise AND (syntax: X & Y)\n",
    "2.Bitwise OR(syntax: X | Y)\n",
    "3.Bitwise NOT(syntax: ~X )\n",
    "4.Bitwise XOR (syntax: X ^ Y)\n",
    "5.Bitwise RIGHT SHIFT (syntax: X >>)\n",
    "6.Bitwise LEFT SHIFT (syntax: X <<)\n",
    "\n",
    "\n",
    "### Bitwise AND\n",
    "\n",
    "Returns 1 if both bits are 1 else 0.\n",
    "\n",
    "### Bitwise OR\n",
    "\n",
    "Returns 1 if either of the bit is 1 else 0.\n",
    "\n",
    "### Bitwise NOT\n",
    "\n",
    "Returns one's complement of the number.\n",
    "\n",
    "### Bitwise XOR\n",
    " \n",
    "Returns 1(true) if one of the bit is 1 and the other is 0 else returns false(0).\n",
    "\n",
    "### Bitwise left shift operator\n",
    "\n",
    "Bitwise left shift operator(<<) moves the bits of its first operand to the left by the number of places specified in its second operand.It also inserets enough zero bits to fill the gap that aries on the right edge of the new bit pattern.\n",
    "\n",
    "### Bitwise right shift operator\n",
    "\n",
    "Bitwise right shift operator(>>)is analogous to the left one, but instead of moving bits to the left,it pushes them to the right by the specified number of places.The rightmost bits always get dropped.\n",
    "\n",
    "\n",
    "\n",
    "\n"
   ]
  },
  {
   "cell_type": "code",
   "execution_count": 3,
   "metadata": {},
   "outputs": [
    {
     "name": "stdout",
     "output_type": "stream",
     "text": [
      "4\n",
      "31\n",
      "-21\n",
      "27\n"
     ]
    }
   ],
   "source": [
    "x=20\n",
    "y=15\n",
    "#Bitwise AND \n",
    "print(x&y)\n",
    "\n",
    "#Bitwise OR\n",
    "print(x|y)\n",
    "\n",
    "#Bitwise NOT\n",
    "print(~x)\n",
    "\n",
    "#Bitwise XOR\n",
    "print(x^y)\n",
    "\n"
   ]
  },
  {
   "cell_type": "markdown",
   "metadata": {},
   "source": []
  },
  {
   "cell_type": "code",
   "execution_count": 5,
   "metadata": {},
   "outputs": [
    {
     "name": "stdout",
     "output_type": "stream",
     "text": [
      "-5\n",
      "3\n",
      "50\n",
      "-40\n"
     ]
    }
   ],
   "source": [
    "x=-10\n",
    "y=7\n",
    "print(x>>1)\n",
    "print(y>>1)\n",
    "x=25\n",
    "y=-20\n",
    "print(x<<1)\n",
    "print(y<<1)"
   ]
  },
  {
   "cell_type": "code",
   "execution_count": null,
   "metadata": {},
   "outputs": [],
   "source": []
  }
 ],
 "metadata": {
  "kernelspec": {
   "display_name": "Python 3",
   "language": "python",
   "name": "python3"
  },
  "language_info": {
   "codemirror_mode": {
    "name": "ipython",
    "version": 3
   },
   "file_extension": ".py",
   "mimetype": "text/x-python",
   "name": "python",
   "nbconvert_exporter": "python",
   "pygments_lexer": "ipython3",
   "version": "3.8.5"
  }
 },
 "nbformat": 4,
 "nbformat_minor": 4
}
