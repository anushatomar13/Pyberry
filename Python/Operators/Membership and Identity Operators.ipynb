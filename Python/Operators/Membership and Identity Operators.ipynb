{
 "cells": [
  {
   "cell_type": "markdown",
   "id": "4735cc00",
   "metadata": {},
   "source": [
    "# Membership and Identity Operators\n",
    "\n",
    "## Membership Operators\n",
    "\n",
    "Membership operators are operators used to validate the membership of a value. It tests for membership in a sequence, such as strings, lists, or tuples. \n"
   ]
  },
  {
   "cell_type": "markdown",
   "id": "a2d6080d",
   "metadata": {},
   "source": [
    "**in operator:** The ‘in’ operator is used to check if a value exists in a sequence or not. Evaluates to true if it finds a variable in the specified sequence and false otherwise."
   ]
  },
  {
   "cell_type": "code",
   "execution_count": 12,
   "id": "aa052c1d",
   "metadata": {},
   "outputs": [
    {
     "name": "stdout",
     "output_type": "stream",
     "text": [
      "0  is absent\n",
      "1  is present\n",
      "2  is present\n",
      "3  is present\n",
      "4  is present\n",
      "5  is absent\n"
     ]
    }
   ],
   "source": [
    "s1=[1,2,3,4]\n",
    "for i in range(0,6):\n",
    "    if(i in s1):\n",
    "        print(i,\" is present\")\n",
    "    else:\n",
    "        print(i,\" is absent\")"
   ]
  },
  {
   "cell_type": "markdown",
   "id": "67940569",
   "metadata": {},
   "source": [
    "**not in operator:** Evaluates to true if it finds a variable not in  the specified sequence and false otherwise."
   ]
  },
  {
   "cell_type": "code",
   "execution_count": 3,
   "id": "c4ad80aa",
   "metadata": {},
   "outputs": [
    {
     "name": "stdout",
     "output_type": "stream",
     "text": [
      "0  is absent\n",
      "1  is present\n",
      "2  is present\n",
      "3  is present\n",
      "4  is present\n",
      "5  is absent\n"
     ]
    }
   ],
   "source": [
    "s1=[1,2,3,4]\n",
    "for i in range(0,6):\n",
    "    if(i not in s1):\n",
    "        print(i,\" is absent\")\n",
    "    else:\n",
    "        print(i,\" is present\")"
   ]
  },
  {
   "cell_type": "markdown",
   "id": "4c937b51",
   "metadata": {},
   "source": [
    "## Identity operators\n",
    "In Python identity operators are used to determine whether a value is of a certain class or type. They are usually used to determine the type of data a certain variable contains. "
   ]
  },
  {
   "cell_type": "markdown",
   "id": "c90d258c",
   "metadata": {},
   "source": [
    "**is operator** : Evaluates to true if the variables on either side of the operator point to the same object and false otherwise. "
   ]
  },
  {
   "cell_type": "code",
   "execution_count": 4,
   "id": "2f5b6325",
   "metadata": {},
   "outputs": [
    {
     "name": "stdout",
     "output_type": "stream",
     "text": [
      "true\n"
     ]
    }
   ],
   "source": [
    "x = 5\n",
    "if (type(x) is int):\n",
    "    print(\"true\")\n",
    "else:\n",
    "    print(\"false\")"
   ]
  },
  {
   "cell_type": "markdown",
   "id": "4bcfae3e",
   "metadata": {},
   "source": [
    "**is not operator :** Evaluates to false if the variables on either side of the operator point to the same object and true otherwise."
   ]
  },
  {
   "cell_type": "code",
   "execution_count": 5,
   "id": "087e8f96",
   "metadata": {},
   "outputs": [
    {
     "name": "stdout",
     "output_type": "stream",
     "text": [
      "true\n"
     ]
    }
   ],
   "source": [
    "x = \"ram\"\n",
    "if (type(x) is not int):\n",
    "    print(\"true\")\n",
    "else:\n",
    "    print(\"false\")"
   ]
  }
 ],
 "metadata": {
  "kernelspec": {
   "display_name": "Python 3",
   "language": "python",
   "name": "python3"
  },
  "language_info": {
   "codemirror_mode": {
    "name": "ipython",
    "version": 3
   },
   "file_extension": ".py",
   "mimetype": "text/x-python",
   "name": "python",
   "nbconvert_exporter": "python",
   "pygments_lexer": "ipython3",
   "version": "3.8.8"
  }
 },
 "nbformat": 4,
 "nbformat_minor": 5
}
