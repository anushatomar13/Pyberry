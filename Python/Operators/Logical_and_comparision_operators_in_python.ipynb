{
  "nbformat": 4,
  "nbformat_minor": 0,
  "metadata": {
    "colab": {
      "name": "Logical and comparision operators in python.ipynb",
      "provenance": [],
      "collapsed_sections": []
    },
    "kernelspec": {
      "name": "python3",
      "display_name": "Python 3"
    },
    "language_info": {
      "name": "python"
    }
  },
  "cells": [
    {
      "cell_type": "markdown",
      "metadata": {
        "id": "-oznzGXfxnUj"
      },
      "source": [
        "## **Logical and Comparision operators in python**\n"
      ]
    },
    {
      "cell_type": "markdown",
      "metadata": {
        "id": "aQK2aLChxsgx"
      },
      "source": [
        "There are mainly three logical operators in python as follow:\n",
        "\n",
        "\n",
        "**1. and (x *and* y):** \n",
        "\n",
        "> Returns *True* if both the operands x and y are true. otherwise, it returns *False*\n",
        "\n",
        "**2. or (x *or* y):**\n",
        "> Returns *False* if both the oprands x and y are false. otherwise, it returns *True*\n",
        "\n",
        "**3. not (*not* x):**\n",
        "> Returns *True* if operand on the right side of **not** is false. otherwise, it returns *False*\n",
        "\n"
      ]
    },
    {
      "cell_type": "code",
      "metadata": {
        "colab": {
          "base_uri": "https://localhost:8080/"
        },
        "id": "8Ofb1RgdzySK",
        "outputId": "2101e966-41d2-4d01-e17d-06e500f6f742"
      },
      "source": [
        "# Code to understand Logical operators\n",
        "a=4\n",
        "b=2\n",
        "c=4\n",
        "if a==c and a!=b:\n",
        "  print(\"Executed because both side of and operator has true value\")\n",
        "if a==b or a==c:\n",
        "  print(\"Executed because a==c is true means atleast one value of two operands is true\")\n",
        "if not a==b:\n",
        "  print(\"Executed because a==b is false which makes !a==b true\")"
      ],
      "execution_count": 16,
      "outputs": [
        {
          "output_type": "stream",
          "name": "stdout",
          "text": [
            "Executed because both side of and operator has true value\n",
            "Executed because a==c is true means atleast one value of two operands is true\n",
            "Executed because a==b is false which makes !a==b true\n"
          ]
        }
      ]
    },
    {
      "cell_type": "markdown",
      "metadata": {
        "id": "zanlB1phlB7n"
      },
      "source": [
        "There are mainly six Comparision operators as follow:\n",
        "\n",
        "\n",
        "**1.   Equal to(==) :** \n",
        "> Returns *True* if operand value on the left side and right side of **==** operator is same. otherwise, it returns *False*\n",
        "\n",
        "**2.   Not equal to(!=):**\n",
        "> Returns *True* if operand value on the left side and right side of **!=** operator is not same. otherwise, it returns *False*\n",
        "\n",
        "**3.   Grater than(>):**\n",
        "> Returns *True* if operand value on the left side of  **>** operator is greater than right side operand value. otherwise, it returns *False*\n",
        "\n",
        "\n",
        "**4.   Less than(<):**\n",
        "> Returns *True* if operand value on the left side of  **<** operator is less than right side operand value. otherwise, it returns *False*\n",
        "\n",
        "**5.   Greater than or equal to(>=):**\n",
        "> Returns *True* if operand value on the left side of  **>** operator is greater than or equal to right side operand value. otherwise, it returns *False*\n",
        "\n",
        "\n",
        "**6.   Less than or equal to(<=):**\n",
        "> Returns *True* if operand value on the left side of  **<** operator is less than or equal to right side operand value. otherwise, it returns *False*\n",
        "\n",
        "\n",
        "\n",
        "\n",
        "\n"
      ]
    },
    {
      "cell_type": "markdown",
      "metadata": {
        "id": "PUjN9e59ojF1"
      },
      "source": [
        "Let's understand each by one example code:\n"
      ]
    },
    {
      "cell_type": "code",
      "metadata": {
        "colab": {
          "base_uri": "https://localhost:8080/"
        },
        "id": "RZcqWSvKk_iy",
        "outputId": "6f4ed114-aab1-4ecc-bc8f-731245885e1e"
      },
      "source": [
        "# Code to understand comparision operators\n",
        "a=3\n",
        "b=3\n",
        "c=4\n",
        "print(\"\\na=\",a,\"\\tb=\",b,\"\\tc=\",c,\"\\n\")\n",
        "\n",
        "\n",
        "if a==b: #returns True as a=3,b=3 which are equal\n",
        "  print(\"a is equal to b\")\n",
        "\n",
        "if a!=c: #returns True as a=3,c=4 so which are not equal\n",
        "  print(\"a is not equal to c\")\n",
        "\n",
        "if c>a: #returns True as c=4 which is greater than a=3\n",
        "  print(\"c is greater than a\")\n",
        "\n",
        "if a<c: #returns True as a=3 which is smaller than c=4\n",
        "  print(\"a is less than c\")\n",
        "\n",
        "if b>=a: #returns True as b=3,a=3 which is are equal. Note here if either of > or == condition satisfy then too returns True\n",
        "  print(\"b is greater than or equal to a\")\n",
        "\n",
        "if a<=b: #returns True as b=3,a=3 which is are equal. Note here if either of < or == condition satisfy then too returns True\n",
        "  print(\"a is less than or equal to b\")\n",
        " "
      ],
      "execution_count": 12,
      "outputs": [
        {
          "output_type": "stream",
          "name": "stdout",
          "text": [
            "\n",
            "a= 3 \tb= 3 \tc= 4 \n",
            "\n",
            "a is equal to b\n",
            "a is not equal to c\n",
            "c is greater than a\n",
            "a is less than c\n",
            "b is greater than or equal to a\n",
            "a is less than or equal to b\n"
          ]
        }
      ]
    },
    {
      "cell_type": "code",
      "metadata": {
        "id": "iSpPTMXhowK8"
      },
      "source": [
        ""
      ],
      "execution_count": 6,
      "outputs": []
    },
    {
      "cell_type": "code",
      "metadata": {
        "id": "A8Ll5BlupJD-"
      },
      "source": [
        ""
      ],
      "execution_count": 6,
      "outputs": []
    }
  ]
}