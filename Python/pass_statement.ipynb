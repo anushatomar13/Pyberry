{
 "cells": [
  {
   "cell_type": "markdown",
   "source": [
    "# Pass Statement in Python\r\n",
    "\r\n",
    "## Python Pass Statement :\r\n",
    "In Python programming, the pass statement is a null statement. The difference between a comment and a pass statement in Python is that while the interpreter ignores a comment entirely, pass is not ignored.\r\n",
    "\r\n",
    "However, nothing happens when the pass is executed. It results in no operation (NOP).\r\n",
    "\r\n",
    "**Syntax :**\r\n",
    " "
   ],
   "metadata": {}
  },
  {
   "cell_type": "code",
   "execution_count": null,
   "source": [
    "pass"
   ],
   "outputs": [],
   "metadata": {}
  },
  {
   "cell_type": "markdown",
   "source": [
    "We generally use it as a placeholder\r\n",
    "\r\n",
    "The pass is also useful in places where your code will eventually go, but has not been written yet (e.g., in stubs for example)"
   ],
   "metadata": {}
  },
  {
   "cell_type": "markdown",
   "source": [
    "Suppose we have a loop or a function that is not implemented yet, but we want to implement it in the future. They cannot have an empty body. The interpreter would give an error. So, we use the pass statement to construct a body that does nothing."
   ],
   "metadata": {}
  },
  {
   "cell_type": "code",
   "execution_count": null,
   "source": [
    "'''pass is just a placeholder for\r\n",
    "functionality to be added later.'''\r\n",
    "\r\n",
    "sequence = {'t', 'e', 's', 't'}\r\n",
    "for seq in sequence:\r\n",
    "    pass"
   ],
   "outputs": [],
   "metadata": {}
  },
  {
   "cell_type": "markdown",
   "source": [
    "We can do the same thing in an empty function or class as well."
   ],
   "metadata": {}
  },
  {
   "cell_type": "code",
   "execution_count": null,
   "source": [
    "def function(args):\r\n",
    "    pass\r\n",
    "\r\n",
    "class Example:\r\n",
    "    pass"
   ],
   "outputs": [],
   "metadata": {}
  }
 ],
 "metadata": {
  "orig_nbformat": 4,
  "language_info": {
   "name": "python"
  }
 },
 "nbformat": 4,
 "nbformat_minor": 2
}